{
 "cells": [
  {
   "cell_type": "code",
   "execution_count": 10,
   "metadata": {},
   "outputs": [],
   "source": [
    "import numpy as np\n",
    "from snapml import GraphFeaturePreprocessor\n",
    "import pandas as pd"
   ]
  },
  {
   "cell_type": "code",
   "execution_count": 14,
   "metadata": {},
   "outputs": [],
   "source": [
    "sub_check1 = \"BEGIN LAUNDERING ATTEMPT\"\n",
    "sub_check2 = \"END LAUNDERING ATTEMPT\""
   ]
  },
  {
   "cell_type": "code",
   "execution_count": 21,
   "metadata": {},
   "outputs": [
    {
     "name": "stdout",
     "output_type": "stream",
     "text": [
      "2022/09/01 00:06,021174,800737690,012,80011F990,2848.96,Euro,2848.96,Euro,ACH,1\n",
      "2022/09/01 04:33,021174,800737690,020,80020C5B0,8630.40,Euro,8630.40,Euro,ACH,1\n",
      "2022/09/01 09:14,021174,800737690,020,80006A5E0,35642.49,Yuan,35642.49,Yuan,ACH,1\n",
      "2022/09/01 09:56,021174,800737690,00220,8007A5B70,5738987.96,US Dollar,5738987.96,US Dollar,ACH,1\n",
      "2022/09/01 11:28,021174,800737690,001244,80093C0D0,7254.53,US Dollar,7254.53,US Dollar,ACH,1\n",
      "2022/09/01 13:13,021174,800737690,00513,80078E200,6990.87,US Dollar,6990.87,US Dollar,ACH,1\n",
      "2022/09/01 14:11,021174,800737690,020,80066B990,12536.92,Euro,12536.92,Euro,ACH,1\n",
      "2022/09/02 15:40,021174,800737690,00410,8002CC310,3511.82,Euro,3511.82,Euro,ACH,1\n",
      "2022/09/02 21:23,021174,800737690,01292,8004030A0,16135.09,US Dollar,16135.09,US Dollar,ACH,1\n",
      "2022/09/02 23:10,021174,800737690,01601,800578800,12183.28,US Dollar,12183.28,US Dollar,ACH,1\n",
      "2022/09/03 09:29,021174,800737690,001,800AAF0B0,15197.45,US Dollar,15197.45,US Dollar,ACH,1\n",
      "2022/09/03 14:22,021174,800737690,01420,8006FB970,4717.76,US Dollar,4717.76,US Dollar,ACH,1\n",
      "2022/09/04 07:35,021174,800737690,010,800449990,19332.59,US Dollar,19332.59,US Dollar,ACH,1\n",
      "2022/09/04 09:10,021174,800737690,011852,800AEBA90,300.93,Euro,300.93,Euro,ACH,1\n",
      "2022/09/04 12:03,021174,800737690,010,800692550,2724.99,US Dollar,2724.99,US Dollar,ACH,1\n",
      "2022/09/04 15:48,021174,800737690,011056,8007486D0,15224.53,Euro,15224.53,Euro,ACH,1\n",
      "2022/09/01 00:03,01467,8013C4030,020,80BC62F10,58702.10,Yuan,58702.10,Yuan,ACH,1\n",
      "2022/09/01 02:52,020,80BC62F10,0240229,80F025640,7332.87,Swiss Franc,7332.87,Swiss Franc,ACH,1\n",
      "2022/09/02 08:44,0240229,80F025640,0217,80FD27570,26443.70,Shekel,26443.70,Shekel,ACH,1\n",
      "2022/09/02 12:29,0217,80FD27570,0024856,8090E8EB0,10621.24,Canadian Dollar,10621.24,Canadian Dollar,ACH,1\n",
      "2022/09/03 10:20,0024856,8090E8EB0,0071,804ABCE90,637140.60,Rupee,637140.60,Rupee,ACH,1\n",
      "2022/09/03 12:08,0071,804ABCE90,0213737,805494C30,621578.18,Rupee,621578.18,Rupee,ACH,1\n",
      "2022/09/03 13:24,0213737,805494C30,014290,801B949C0,7222.58,Euro,7222.58,Euro,ACH,1\n",
      "2022/09/04 03:24,014290,801B949C0,0010057,803DE1580,892031.21,Yen,892031.21,Yen,ACH,1\n",
      "2022/09/04 09:44,0010057,803DE1580,0028628,80ACEE280,11364.12,Australian Dollar,11364.12,Australian Dollar,ACH,1\n",
      "2022/09/04 15:51,0028628,80ACEE280,01467,8013C4030,7945.55,US Dollar,7945.55,US Dollar,ACH,1\n"
     ]
    }
   ],
   "source": [
    "fp = open('HI-Small_Patterns.txt', 'r')\n",
    "\n",
    "for i in range(33):\n",
    "    \n",
    "    line = fp.readline()\n",
    "\n",
    "    if (sub_check1 in line):\n",
    "        continue\n",
    "    elif (sub_check2 in line):\n",
    "        continue\n",
    "    elif (line == '\\n'):\n",
    "        continue\n",
    "    else:\n",
    "        # remove next line character from the end of the line\n",
    "        line = line.rstrip('\\n')\n",
    "        print(line)\n",
    "\n",
    "fp.close()"
   ]
  }
 ],
 "metadata": {
  "kernelspec": {
   "display_name": "multignn",
   "language": "python",
   "name": "python3"
  },
  "language_info": {
   "codemirror_mode": {
    "name": "ipython",
    "version": 3
   },
   "file_extension": ".py",
   "mimetype": "text/x-python",
   "name": "python",
   "nbconvert_exporter": "python",
   "pygments_lexer": "ipython3",
   "version": "3.9.19"
  }
 },
 "nbformat": 4,
 "nbformat_minor": 2
}
