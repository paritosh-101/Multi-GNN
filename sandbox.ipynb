{
 "cells": [
  {
   "cell_type": "code",
   "execution_count": 2,
   "metadata": {},
   "outputs": [],
   "source": [
    "import numpy as np\n",
    "from snapml import GraphFeaturePreprocessor\n",
    "import pandas as pd"
   ]
  },
  {
   "cell_type": "code",
   "execution_count": 3,
   "metadata": {},
   "outputs": [
    {
     "data": {
      "text/html": [
       "<div>\n",
       "<style scoped>\n",
       "    .dataframe tbody tr th:only-of-type {\n",
       "        vertical-align: middle;\n",
       "    }\n",
       "\n",
       "    .dataframe tbody tr th {\n",
       "        vertical-align: top;\n",
       "    }\n",
       "\n",
       "    .dataframe thead th {\n",
       "        text-align: right;\n",
       "    }\n",
       "</style>\n",
       "<table border=\"1\" class=\"dataframe\">\n",
       "  <thead>\n",
       "    <tr style=\"text-align: right;\">\n",
       "      <th></th>\n",
       "      <th>EdgeID</th>\n",
       "      <th>from_id</th>\n",
       "      <th>to_id</th>\n",
       "      <th>Timestamp</th>\n",
       "      <th>Amount Sent</th>\n",
       "      <th>Sent Currency</th>\n",
       "      <th>Amount Received</th>\n",
       "      <th>Received Currency</th>\n",
       "      <th>Payment Format</th>\n",
       "      <th>Is Laundering</th>\n",
       "    </tr>\n",
       "  </thead>\n",
       "  <tbody>\n",
       "    <tr>\n",
       "      <th>0</th>\n",
       "      <td>2</td>\n",
       "      <td>3</td>\n",
       "      <td>3</td>\n",
       "      <td>10</td>\n",
       "      <td>14675.57</td>\n",
       "      <td>0</td>\n",
       "      <td>14675.57</td>\n",
       "      <td>0</td>\n",
       "      <td>0</td>\n",
       "      <td>0</td>\n",
       "    </tr>\n",
       "    <tr>\n",
       "      <th>1</th>\n",
       "      <td>17</td>\n",
       "      <td>24</td>\n",
       "      <td>24</td>\n",
       "      <td>10</td>\n",
       "      <td>897.37</td>\n",
       "      <td>0</td>\n",
       "      <td>897.37</td>\n",
       "      <td>0</td>\n",
       "      <td>0</td>\n",
       "      <td>0</td>\n",
       "    </tr>\n",
       "    <tr>\n",
       "      <th>2</th>\n",
       "      <td>158</td>\n",
       "      <td>163</td>\n",
       "      <td>163</td>\n",
       "      <td>10</td>\n",
       "      <td>99986.94</td>\n",
       "      <td>0</td>\n",
       "      <td>99986.94</td>\n",
       "      <td>0</td>\n",
       "      <td>0</td>\n",
       "      <td>0</td>\n",
       "    </tr>\n",
       "    <tr>\n",
       "      <th>3</th>\n",
       "      <td>218</td>\n",
       "      <td>215</td>\n",
       "      <td>215</td>\n",
       "      <td>10</td>\n",
       "      <td>16.08</td>\n",
       "      <td>0</td>\n",
       "      <td>16.08</td>\n",
       "      <td>0</td>\n",
       "      <td>0</td>\n",
       "      <td>0</td>\n",
       "    </tr>\n",
       "    <tr>\n",
       "      <th>4</th>\n",
       "      <td>281</td>\n",
       "      <td>265</td>\n",
       "      <td>265</td>\n",
       "      <td>10</td>\n",
       "      <td>10.30</td>\n",
       "      <td>0</td>\n",
       "      <td>10.30</td>\n",
       "      <td>0</td>\n",
       "      <td>0</td>\n",
       "      <td>0</td>\n",
       "    </tr>\n",
       "  </tbody>\n",
       "</table>\n",
       "</div>"
      ],
      "text/plain": [
       "   EdgeID  from_id  to_id  Timestamp  Amount Sent  Sent Currency  \\\n",
       "0       2        3      3         10     14675.57              0   \n",
       "1      17       24     24         10       897.37              0   \n",
       "2     158      163    163         10     99986.94              0   \n",
       "3     218      215    215         10        16.08              0   \n",
       "4     281      265    265         10        10.30              0   \n",
       "\n",
       "   Amount Received  Received Currency  Payment Format  Is Laundering  \n",
       "0         14675.57                  0               0              0  \n",
       "1           897.37                  0               0              0  \n",
       "2         99986.94                  0               0              0  \n",
       "3            16.08                  0               0              0  \n",
       "4            10.30                  0               0              0  "
      ]
     },
     "execution_count": 3,
     "metadata": {},
     "output_type": "execute_result"
    }
   ],
   "source": [
    "df = pd.read_csv('HI_Small_formatted_transactions.csv')\n",
    "df.head()"
   ]
  },
  {
   "cell_type": "code",
   "execution_count": 5,
   "metadata": {},
   "outputs": [
    {
     "data": {
      "text/html": [
       "<div>\n",
       "<style scoped>\n",
       "    .dataframe tbody tr th:only-of-type {\n",
       "        vertical-align: middle;\n",
       "    }\n",
       "\n",
       "    .dataframe tbody tr th {\n",
       "        vertical-align: top;\n",
       "    }\n",
       "\n",
       "    .dataframe thead th {\n",
       "        text-align: right;\n",
       "    }\n",
       "</style>\n",
       "<table border=\"1\" class=\"dataframe\">\n",
       "  <thead>\n",
       "    <tr style=\"text-align: right;\">\n",
       "      <th></th>\n",
       "      <th>EdgeID</th>\n",
       "      <th>from_id</th>\n",
       "      <th>to_id</th>\n",
       "      <th>Timestamp</th>\n",
       "      <th>Amount Sent</th>\n",
       "      <th>Sent Currency</th>\n",
       "      <th>Amount Received</th>\n",
       "      <th>Received Currency</th>\n",
       "      <th>Payment Format</th>\n",
       "    </tr>\n",
       "  </thead>\n",
       "  <tbody>\n",
       "    <tr>\n",
       "      <th>0</th>\n",
       "      <td>2</td>\n",
       "      <td>3</td>\n",
       "      <td>3</td>\n",
       "      <td>10</td>\n",
       "      <td>14675.57</td>\n",
       "      <td>0</td>\n",
       "      <td>14675.57</td>\n",
       "      <td>0</td>\n",
       "      <td>0</td>\n",
       "    </tr>\n",
       "    <tr>\n",
       "      <th>1</th>\n",
       "      <td>17</td>\n",
       "      <td>24</td>\n",
       "      <td>24</td>\n",
       "      <td>10</td>\n",
       "      <td>897.37</td>\n",
       "      <td>0</td>\n",
       "      <td>897.37</td>\n",
       "      <td>0</td>\n",
       "      <td>0</td>\n",
       "    </tr>\n",
       "    <tr>\n",
       "      <th>2</th>\n",
       "      <td>158</td>\n",
       "      <td>163</td>\n",
       "      <td>163</td>\n",
       "      <td>10</td>\n",
       "      <td>99986.94</td>\n",
       "      <td>0</td>\n",
       "      <td>99986.94</td>\n",
       "      <td>0</td>\n",
       "      <td>0</td>\n",
       "    </tr>\n",
       "    <tr>\n",
       "      <th>3</th>\n",
       "      <td>218</td>\n",
       "      <td>215</td>\n",
       "      <td>215</td>\n",
       "      <td>10</td>\n",
       "      <td>16.08</td>\n",
       "      <td>0</td>\n",
       "      <td>16.08</td>\n",
       "      <td>0</td>\n",
       "      <td>0</td>\n",
       "    </tr>\n",
       "    <tr>\n",
       "      <th>4</th>\n",
       "      <td>281</td>\n",
       "      <td>265</td>\n",
       "      <td>265</td>\n",
       "      <td>10</td>\n",
       "      <td>10.30</td>\n",
       "      <td>0</td>\n",
       "      <td>10.30</td>\n",
       "      <td>0</td>\n",
       "      <td>0</td>\n",
       "    </tr>\n",
       "  </tbody>\n",
       "</table>\n",
       "</div>"
      ],
      "text/plain": [
       "   EdgeID  from_id  to_id  Timestamp  Amount Sent  Sent Currency  \\\n",
       "0       2        3      3         10     14675.57              0   \n",
       "1      17       24     24         10       897.37              0   \n",
       "2     158      163    163         10     99986.94              0   \n",
       "3     218      215    215         10        16.08              0   \n",
       "4     281      265    265         10        10.30              0   \n",
       "\n",
       "   Amount Received  Received Currency  Payment Format  \n",
       "0         14675.57                  0               0  \n",
       "1           897.37                  0               0  \n",
       "2         99986.94                  0               0  \n",
       "3            16.08                  0               0  \n",
       "4            10.30                  0               0  "
      ]
     },
     "execution_count": 5,
     "metadata": {},
     "output_type": "execute_result"
    }
   ],
   "source": [
    "# detach and store the last column as the target variable\n",
    "y = df['Is Laundering']\n",
    "X = df.drop(['Is Laundering'], axis=1)\n",
    "\n",
    "X.head()"
   ]
  },
  {
   "cell_type": "code",
   "execution_count": 6,
   "metadata": {},
   "outputs": [
    {
     "name": "stdout",
     "output_type": "stream",
     "text": [
      "(5078345, 9)\n",
      "[[2.000000e+00 3.000000e+00 3.000000e+00 1.000000e+01 1.467557e+04\n",
      "  0.000000e+00 1.467557e+04 0.000000e+00 0.000000e+00]\n",
      " [1.700000e+01 2.400000e+01 2.400000e+01 1.000000e+01 8.973700e+02\n",
      "  0.000000e+00 8.973700e+02 0.000000e+00 0.000000e+00]\n",
      " [1.580000e+02 1.630000e+02 1.630000e+02 1.000000e+01 9.998694e+04\n",
      "  0.000000e+00 9.998694e+04 0.000000e+00 0.000000e+00]\n",
      " [2.180000e+02 2.150000e+02 2.150000e+02 1.000000e+01 1.608000e+01\n",
      "  0.000000e+00 1.608000e+01 0.000000e+00 0.000000e+00]\n",
      " [2.810000e+02 2.650000e+02 2.650000e+02 1.000000e+01 1.030000e+01\n",
      "  0.000000e+00 1.030000e+01 0.000000e+00 0.000000e+00]]\n"
     ]
    }
   ],
   "source": [
    "# dataframe to numpy array\n",
    "X = X.to_numpy()\n",
    "y = y.to_numpy()\n",
    "\n",
    "print(X.shape)\n",
    "print(X[0:5])"
   ]
  },
  {
   "cell_type": "code",
   "execution_count": 7,
   "metadata": {},
   "outputs": [],
   "source": [
    "gfp = GraphFeaturePreprocessor()"
   ]
  },
  {
   "cell_type": "code",
   "execution_count": 12,
   "metadata": {},
   "outputs": [],
   "source": [
    "params = {\n",
    "    'num_threads': 18,\n",
    "    'time_window': -1,\n",
    "    'max_no_edges': -1,\n",
    "    'vertex_stats': True,\n",
    "    'vertex_stats_cols': [3, 4],\n",
    "    'vertex_stats_feats': [0, 1, 2, 3, 4, 8, 9, 10],\n",
    "    'fan': True,\n",
    "    'fan_tw': 86410,\n",
    "    'fan_bins': [1, 2, 3, 4, 5],\n",
    "    'degree': True,\n",
    "    'degree_tw': 86410,\n",
    "    'degree_bins': [1, 2, 3, 4, 5],\n",
    "    'scatter-gather': True,\n",
    "    'scatter-gather_tw': 21610,\n",
    "    'scatter-gather_bins': [1, 2, 3, 4, 5],\n",
    "    'temp-cycle': True,\n",
    "    'temp-cycle_tw': 86410,\n",
    "    'temp-cycle_bins': [1, 2, 3, 4, 5],\n",
    "    'lc-cycle': True,\n",
    "    'lc-cycle_tw': 86410,\n",
    "    'lc-cycle_bins': [1, 2, 3, 4, 5],\n",
    "    'lc-cycle_len': 10\n",
    "}"
   ]
  },
  {
   "cell_type": "code",
   "execution_count": 13,
   "metadata": {},
   "outputs": [
    {
     "data": {
      "text/plain": [
       "{'num_threads': 18,\n",
       " 'time_window': -1,\n",
       " 'max_no_edges': -1,\n",
       " 'vertex_stats': True,\n",
       " 'vertex_stats_tw': 1728000,\n",
       " 'vertex_stats_cols': [3, 4],\n",
       " 'vertex_stats_feats': [0, 1, 2, 3, 4, 8, 9, 10],\n",
       " 'fan': True,\n",
       " 'fan_tw': 86410,\n",
       " 'fan_bins': [0, 1, 2, 3, 4],\n",
       " 'degree': True,\n",
       " 'degree_tw': 86410,\n",
       " 'degree_bins': [0, 1, 2, 3, 4],\n",
       " 'scatter-gather': True,\n",
       " 'scatter-gather_tw': 21610,\n",
       " 'scatter-gather_bins': [0, 1, 2, 3, 4],\n",
       " 'temp-cycle': True,\n",
       " 'temp-cycle_tw': 86410,\n",
       " 'temp-cycle_bins': [0, 1, 2, 3, 4],\n",
       " 'lc-cycle': True,\n",
       " 'lc-cycle_tw': 86410,\n",
       " 'lc-cycle_len': 10,\n",
       " 'lc-cycle_bins': [0, 1, 2, 3, 4]}"
      ]
     },
     "execution_count": 13,
     "metadata": {},
     "output_type": "execute_result"
    }
   ],
   "source": [
    "gfp.get_params()"
   ]
  },
  {
   "cell_type": "code",
   "execution_count": 14,
   "metadata": {},
   "outputs": [],
   "source": [
    "gfp.set_params(params)"
   ]
  },
  {
   "cell_type": "code",
   "execution_count": 3,
   "metadata": {},
   "outputs": [
    {
     "name": "stdout",
     "output_type": "stream",
     "text": [
      "(5078345, 96)\n"
     ]
    }
   ],
   "source": [
    "# data split\n",
    "\n",
    "X = np.load('HI_Small_features_out.npy')\n",
    "print(X.shape)"
   ]
  },
  {
   "cell_type": "code",
   "execution_count": 4,
   "metadata": {},
   "outputs": [
    {
     "name": "stdout",
     "output_type": "stream",
     "text": [
      "5078345\n",
      "(4062676, 96)\n",
      "(1015669, 96)\n"
     ]
    }
   ],
   "source": [
    "n_edges = X.shape[0]\n",
    "print(n_edges)\n",
    "\n",
    "train_end = int(n_edges * 0.8)\n",
    "X_train = X[:train_end]\n",
    "X_test = X[train_end:]\n",
    "\n",
    "print(X_train.shape)\n",
    "print(X_test.shape)"
   ]
  },
  {
   "cell_type": "code",
   "execution_count": null,
   "metadata": {},
   "outputs": [],
   "source": [
    "from xgboost import XGBClassifier\n",
    "\n",
    "bst = "
   ]
  }
 ],
 "metadata": {
  "kernelspec": {
   "display_name": "multignn",
   "language": "python",
   "name": "python3"
  },
  "language_info": {
   "codemirror_mode": {
    "name": "ipython",
    "version": 3
   },
   "file_extension": ".py",
   "mimetype": "text/x-python",
   "name": "python",
   "nbconvert_exporter": "python",
   "pygments_lexer": "ipython3",
   "version": "3.9.19"
  }
 },
 "nbformat": 4,
 "nbformat_minor": 2
}
